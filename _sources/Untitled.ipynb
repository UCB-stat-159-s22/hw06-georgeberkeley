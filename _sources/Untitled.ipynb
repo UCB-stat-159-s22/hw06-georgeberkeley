{
 "cells": [
  {
   "cell_type": "code",
   "execution_count": 1,
   "id": "76720c02-e105-45fa-94e0-1d821149c179",
   "metadata": {},
   "outputs": [],
   "source": [
    "#-- SET ME   Tutorial should work with most binary black hole events\n",
    "#-- Default is no event selection; you MUST select one to proceed.\n",
    "eventname = ''\n",
    "eventname = 'GW150914' \n",
    "#eventname = 'GW151226' \n",
    "#eventname = 'LVT151012'\n",
    "#eventname = 'GW170104'\n",
    "\n",
    "# want plots?\n",
    "make_plots = 1\n",
    "plottype = \"png\"\n",
    "#plottype = \"pdf\""
   ]
  },
  {
   "cell_type": "code",
   "execution_count": 3,
   "id": "44554036-8373-480a-bce5-3e3965764aed",
   "metadata": {},
   "outputs": [],
   "source": [
    "# Standard python numerical analysis imports:\n",
    "import numpy as np\n",
    "from scipy import signal\n",
    "from scipy.interpolate import interp1d\n",
    "from scipy.signal import butter, filtfilt, iirdesign, zpk2tf, freqz\n",
    "import h5py\n",
    "import json\n",
    "\n",
    "# the IPython magic below must be commented out in the .py file, since it doesn't work there.\n",
    "%matplotlib inline\n",
    "%config InlineBackend.figure_format = 'retina'\n",
    "import matplotlib.pyplot as plt\n",
    "import matplotlib.mlab as mlab\n",
    "\n",
    "# LIGO-specific readligo.py \n",
    "from ligotools import readligo as rl"
   ]
  },
  {
   "cell_type": "code",
   "execution_count": 4,
   "id": "2b98a8ee-d566-49f3-86c7-f32030226da3",
   "metadata": {},
   "outputs": [],
   "source": [
    "fnjson = \"BBH_events_v3.json\"\n",
    "\n",
    "events = json.load(open(fnjson,\"r\"))"
   ]
  },
  {
   "cell_type": "code",
   "execution_count": 6,
   "id": "ab1d7747-100d-4604-ab44-7774990ffd24",
   "metadata": {},
   "outputs": [],
   "source": [
    "\n",
    "event = events[eventname]\n",
    "fn_H1 = event['fn_H1']"
   ]
  },
  {
   "cell_type": "code",
   "execution_count": 7,
   "id": "5e68d948-f28e-4133-a36f-be2fee7280b3",
   "metadata": {},
   "outputs": [
    {
     "ename": "AttributeError",
     "evalue": "'Dataset' object has no attribute 'value'",
     "output_type": "error",
     "traceback": [
      "\u001b[0;31m---------------------------------------------------------------------------\u001b[0m",
      "\u001b[0;31mAttributeError\u001b[0m                            Traceback (most recent call last)",
      "Input \u001b[0;32mIn [7]\u001b[0m, in \u001b[0;36m<module>\u001b[0;34m\u001b[0m\n\u001b[0;32m----> 1\u001b[0m strain_H1, time_H1, chan_dict_H1 \u001b[38;5;241m=\u001b[39m \u001b[43mrl\u001b[49m\u001b[38;5;241;43m.\u001b[39;49m\u001b[43mloaddata\u001b[49m\u001b[43m(\u001b[49m\u001b[43mfn_H1\u001b[49m\u001b[43m,\u001b[49m\u001b[43m \u001b[49m\u001b[38;5;124;43m'\u001b[39;49m\u001b[38;5;124;43mH1\u001b[39;49m\u001b[38;5;124;43m'\u001b[39;49m\u001b[43m)\u001b[49m\n",
      "File \u001b[0;32m~/assignments/hw06-georgeberkeley/ligotools/readligo.py:172\u001b[0m, in \u001b[0;36mloaddata\u001b[0;34m(filename, ifo, tvec, readstrain)\u001b[0m\n\u001b[1;32m    170\u001b[0m     strain, gpsStart, ts, qmask, shortnameList, injmask, injnameList \u001b[38;5;241m=\u001b[39m read_frame(filename, ifo, readstrain)\n\u001b[1;32m    171\u001b[0m \u001b[38;5;28;01melse\u001b[39;00m:\n\u001b[0;32m--> 172\u001b[0m     strain, gpsStart, ts, qmask, shortnameList, injmask, injnameList \u001b[38;5;241m=\u001b[39m \u001b[43mread_hdf5\u001b[49m\u001b[43m(\u001b[49m\u001b[43mfilename\u001b[49m\u001b[43m,\u001b[49m\u001b[43m \u001b[49m\u001b[43mreadstrain\u001b[49m\u001b[43m)\u001b[49m\n\u001b[1;32m    174\u001b[0m \u001b[38;5;66;03m#-- Create the time vector\u001b[39;00m\n\u001b[1;32m    175\u001b[0m gpsEnd \u001b[38;5;241m=\u001b[39m gpsStart \u001b[38;5;241m+\u001b[39m \u001b[38;5;28mlen\u001b[39m(qmask)\n",
      "File \u001b[0;32m~/assignments/hw06-georgeberkeley/ligotools/readligo.py:132\u001b[0m, in \u001b[0;36mread_hdf5\u001b[0;34m(filename, readstrain)\u001b[0m\n\u001b[1;32m    130\u001b[0m dqInfo \u001b[38;5;241m=\u001b[39m dataFile[\u001b[38;5;124m'\u001b[39m\u001b[38;5;124mquality\u001b[39m\u001b[38;5;124m'\u001b[39m][\u001b[38;5;124m'\u001b[39m\u001b[38;5;124msimple\u001b[39m\u001b[38;5;124m'\u001b[39m]\n\u001b[1;32m    131\u001b[0m qmask \u001b[38;5;241m=\u001b[39m dqInfo[\u001b[38;5;124m'\u001b[39m\u001b[38;5;124mDQmask\u001b[39m\u001b[38;5;124m'\u001b[39m][\u001b[38;5;241m.\u001b[39m\u001b[38;5;241m.\u001b[39m\u001b[38;5;241m.\u001b[39m]\n\u001b[0;32m--> 132\u001b[0m shortnameArray \u001b[38;5;241m=\u001b[39m \u001b[43mdqInfo\u001b[49m\u001b[43m[\u001b[49m\u001b[38;5;124;43m'\u001b[39;49m\u001b[38;5;124;43mDQShortnames\u001b[39;49m\u001b[38;5;124;43m'\u001b[39;49m\u001b[43m]\u001b[49m\u001b[38;5;241;43m.\u001b[39;49m\u001b[43mvalue\u001b[49m\n\u001b[1;32m    133\u001b[0m shortnameList  \u001b[38;5;241m=\u001b[39m \u001b[38;5;28mlist\u001b[39m(shortnameArray)\n\u001b[1;32m    135\u001b[0m \u001b[38;5;66;03m# -- Read the INJ information\u001b[39;00m\n",
      "\u001b[0;31mAttributeError\u001b[0m: 'Dataset' object has no attribute 'value'"
     ]
    }
   ],
   "source": [
    "strain_H1, time_H1, chan_dict_H1 = rl.loaddata(fn_H1, 'H1')"
   ]
  },
  {
   "cell_type": "code",
   "execution_count": null,
   "id": "cd6d9190-d7f7-454f-89a5-7ce72ac72312",
   "metadata": {},
   "outputs": [],
   "source": []
  }
 ],
 "metadata": {
  "kernelspec": {
   "display_name": "Python 3 (ipykernel)",
   "language": "python",
   "name": "python3"
  },
  "language_info": {
   "codemirror_mode": {
    "name": "ipython",
    "version": 3
   },
   "file_extension": ".py",
   "mimetype": "text/x-python",
   "name": "python",
   "nbconvert_exporter": "python",
   "pygments_lexer": "ipython3",
   "version": "3.9.9"
  }
 },
 "nbformat": 4,
 "nbformat_minor": 5
}
